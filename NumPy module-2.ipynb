{
 "cells": [
  {
   "cell_type": "code",
   "execution_count": 2,
   "id": "2c74b136",
   "metadata": {},
   "outputs": [],
   "source": [
    "import numpy as np\n"
   ]
  },
  {
   "cell_type": "code",
   "execution_count": 3,
   "id": "f55507ef",
   "metadata": {},
   "outputs": [],
   "source": [
    "array1=np.random.randint(1,high=12,size=(3,3))"
   ]
  },
  {
   "cell_type": "code",
   "execution_count": 4,
   "id": "cc700742",
   "metadata": {},
   "outputs": [
    {
     "data": {
      "text/plain": [
       "array([[10, 10, 10],\n",
       "       [ 6, 11,  5],\n",
       "       [10, 10,  5]])"
      ]
     },
     "execution_count": 4,
     "metadata": {},
     "output_type": "execute_result"
    }
   ],
   "source": [
    "array1"
   ]
  },
  {
   "cell_type": "code",
   "execution_count": 5,
   "id": "e62945f8",
   "metadata": {},
   "outputs": [
    {
     "data": {
      "text/plain": [
       "array([[10, 10, 10],\n",
       "       [ 6, 11,  5],\n",
       "       [10, 10,  5]])"
      ]
     },
     "execution_count": 5,
     "metadata": {},
     "output_type": "execute_result"
    }
   ],
   "source": [
    "array1"
   ]
  },
  {
   "cell_type": "code",
   "execution_count": 8,
   "id": "5009eb77",
   "metadata": {},
   "outputs": [
    {
     "data": {
      "text/plain": [
       "array([ 5,  6, 10, 11])"
      ]
     },
     "execution_count": 8,
     "metadata": {},
     "output_type": "execute_result"
    }
   ],
   "source": [
    "#find unique values in array\n",
    "np.unique(array1)\n"
   ]
  },
  {
   "cell_type": "markdown",
   "id": "c97f123c",
   "metadata": {},
   "source": [
    "#### viewing data in the array and matrics"
   ]
  },
  {
   "cell_type": "code",
   "execution_count": 15,
   "id": "eef87ecd",
   "metadata": {},
   "outputs": [
    {
     "data": {
      "text/plain": [
       "(5, array([ 6, 11,  5]))"
      ]
     },
     "execution_count": 15,
     "metadata": {},
     "output_type": "execute_result"
    }
   ],
   "source": [
    "array1[2][2],array1[1]"
   ]
  },
  {
   "cell_type": "code",
   "execution_count": 40,
   "id": "ed498723",
   "metadata": {},
   "outputs": [],
   "source": [
    "array2=np.array([\n",
    "                [[1,2,3,4,5],\n",
    "                [2,3,4,5,6],\n",
    "                [3,4,5,6,7],\n",
    "                [33,21,21,41,12]],\n",
    "    \n",
    "                [[9,8,7,6,5],\n",
    "                [8,7,6,5,4],\n",
    "                [7,6,5,4,3],\n",
    "                [12,12,13,14,14]]\n",
    "    \n",
    "                ])"
   ]
  },
  {
   "cell_type": "code",
   "execution_count": 41,
   "id": "2d9dba94",
   "metadata": {},
   "outputs": [
    {
     "data": {
      "text/plain": [
       "(3, (2, 4, 5))"
      ]
     },
     "execution_count": 41,
     "metadata": {},
     "output_type": "execute_result"
    }
   ],
   "source": [
    "array2.ndim,array2.shape\n"
   ]
  },
  {
   "cell_type": "code",
   "execution_count": 42,
   "id": "373726f7",
   "metadata": {},
   "outputs": [
    {
     "data": {
      "text/plain": [
       "array([[ 1,  2,  3,  4,  5],\n",
       "       [ 2,  3,  4,  5,  6],\n",
       "       [ 3,  4,  5,  6,  7],\n",
       "       [33, 21, 21, 41, 12]])"
      ]
     },
     "execution_count": 42,
     "metadata": {},
     "output_type": "execute_result"
    }
   ],
   "source": [
    "#viewing 1st matrics/array\n",
    "array2[0]"
   ]
  },
  {
   "cell_type": "code",
   "execution_count": 43,
   "id": "32d9f8c0",
   "metadata": {},
   "outputs": [
    {
     "data": {
      "text/plain": [
       "array([1, 2, 3, 4, 5])"
      ]
     },
     "execution_count": 43,
     "metadata": {},
     "output_type": "execute_result"
    }
   ],
   "source": [
    "#viewing 1st row in the 1st matrics/array type-1\n",
    "array2[0][0]"
   ]
  },
  {
   "cell_type": "code",
   "execution_count": 57,
   "id": "29216c7a",
   "metadata": {},
   "outputs": [
    {
     "data": {
      "text/plain": [
       "array([[[3, 4]]])"
      ]
     },
     "execution_count": 57,
     "metadata": {},
     "output_type": "execute_result"
    }
   ],
   "source": [
    "\n",
    "#viewing 1st row in the 1st matrics/array type-2(slicing)\n",
    "#SYNTAX\n",
    "#arrayname[matrix,column,row]\n",
    "array2[:1 , 2:3 ,:2]"
   ]
  },
  {
   "cell_type": "code",
   "execution_count": 59,
   "id": "b3653249",
   "metadata": {},
   "outputs": [
    {
     "data": {
      "text/plain": [
       "array([[[3, 4]],\n",
       "\n",
       "       [[7, 6]]])"
      ]
     },
     "execution_count": 59,
     "metadata": {},
     "output_type": "execute_result"
    }
   ],
   "source": [
    "#viewing elements in two matrix third row,1and2 columns\n",
    "array2[:2 , 2:3 ,:2]"
   ]
  },
  {
   "cell_type": "code",
   "execution_count": 85,
   "id": "36115c04",
   "metadata": {},
   "outputs": [],
   "source": [
    "#syntax\n",
    "#arrayname=np.random.randint(low=1,high=10,size=(no of dimension,no_of_matrics in one dimension,no_of_rows,no_of_columns))\n",
    "np.random.seed(0)# with seed same number will apper everytime we run random.randint  \n",
    "array3=np.random.randint(1,high=10,size=(3,3,4,5))"
   ]
  },
  {
   "cell_type": "code",
   "execution_count": 74,
   "id": "961037b4",
   "metadata": {},
   "outputs": [
    {
     "data": {
      "text/plain": [
       "array([[[[1, 7, 4, 8, 5],\n",
       "         [4, 9, 5, 3, 2],\n",
       "         [3, 4, 2, 1, 4],\n",
       "         [7, 2, 7, 8, 8]],\n",
       "\n",
       "        [[4, 3, 2, 7, 3],\n",
       "         [8, 9, 8, 6, 7],\n",
       "         [7, 4, 2, 8, 7],\n",
       "         [2, 7, 1, 7, 8]],\n",
       "\n",
       "        [[3, 1, 9, 1, 2],\n",
       "         [7, 2, 7, 1, 1],\n",
       "         [9, 6, 3, 4, 9],\n",
       "         [6, 1, 4, 2, 5]]],\n",
       "\n",
       "\n",
       "       [[[7, 7, 7, 1, 4],\n",
       "         [6, 5, 9, 2, 6],\n",
       "         [2, 5, 3, 8, 4],\n",
       "         [9, 4, 7, 7, 8]],\n",
       "\n",
       "        [[9, 2, 5, 1, 6],\n",
       "         [5, 9, 4, 3, 5],\n",
       "         [5, 2, 2, 2, 2],\n",
       "         [5, 6, 4, 1, 2]],\n",
       "\n",
       "        [[8, 3, 7, 7, 6],\n",
       "         [6, 3, 3, 1, 7],\n",
       "         [3, 8, 1, 2, 3],\n",
       "         [4, 1, 8, 2, 3]]],\n",
       "\n",
       "\n",
       "       [[[2, 2, 5, 5, 9],\n",
       "         [2, 1, 2, 4, 6],\n",
       "         [5, 8, 9, 2, 7],\n",
       "         [2, 2, 9, 9, 5]],\n",
       "\n",
       "        [[2, 7, 9, 6, 9],\n",
       "         [8, 5, 1, 1, 3],\n",
       "         [7, 8, 4, 1, 3],\n",
       "         [5, 5, 2, 7, 4]],\n",
       "\n",
       "        [[1, 7, 3, 5, 6],\n",
       "         [4, 2, 9, 4, 3],\n",
       "         [2, 8, 8, 7, 5],\n",
       "         [6, 6, 4, 9, 3]]]])"
      ]
     },
     "execution_count": 74,
     "metadata": {},
     "output_type": "execute_result"
    }
   ],
   "source": [
    "array3"
   ]
  },
  {
   "cell_type": "code",
   "execution_count": 86,
   "id": "7b96212f",
   "metadata": {},
   "outputs": [
    {
     "data": {
      "text/plain": [
       "((3, 3, 4, 5), 4)"
      ]
     },
     "execution_count": 86,
     "metadata": {},
     "output_type": "execute_result"
    }
   ],
   "source": [
    "array3.shape,array3.ndim"
   ]
  },
  {
   "cell_type": "code",
   "execution_count": 87,
   "id": "cb6202eb",
   "metadata": {},
   "outputs": [
    {
     "data": {
      "text/plain": [
       "array([[[[2, 7],\n",
       "         [2, 6]],\n",
       "\n",
       "        [[4, 8],\n",
       "         [5, 8]],\n",
       "\n",
       "        [[5, 9],\n",
       "         [4, 7]]],\n",
       "\n",
       "\n",
       "       [[[9, 5],\n",
       "         [6, 1]],\n",
       "\n",
       "        [[1, 8],\n",
       "         [8, 3]],\n",
       "\n",
       "        [[4, 1],\n",
       "         [7, 4]]],\n",
       "\n",
       "\n",
       "       [[[9, 5],\n",
       "         [4, 7]],\n",
       "\n",
       "        [[6, 8],\n",
       "         [9, 7]],\n",
       "\n",
       "        [[1, 9],\n",
       "         [9, 3]]]])"
      ]
     },
     "execution_count": 87,
     "metadata": {},
     "output_type": "execute_result"
    }
   ],
   "source": [
    "#find elemnts of last two rows and last two columns of every matrix\n",
    "array3[:,:,2:,3:]"
   ]
  },
  {
   "cell_type": "code",
   "execution_count": 88,
   "id": "c472d44a",
   "metadata": {},
   "outputs": [
    {
     "data": {
      "text/plain": [
       "array([[[[6, 1, 4, 4, 8],\n",
       "         [4, 6, 3, 5, 8],\n",
       "         [7, 9, 9, 2, 7],\n",
       "         [8, 8, 9, 2, 6]],\n",
       "\n",
       "        [[9, 5, 4, 1, 4],\n",
       "         [6, 1, 3, 4, 9],\n",
       "         [2, 4, 4, 4, 8],\n",
       "         [1, 2, 1, 5, 8]],\n",
       "\n",
       "        [[4, 3, 8, 3, 1],\n",
       "         [1, 5, 6, 6, 7],\n",
       "         [9, 5, 2, 5, 9],\n",
       "         [2, 2, 8, 4, 7]]],\n",
       "\n",
       "\n",
       "       [[[8, 3, 1, 4, 6],\n",
       "         [5, 5, 7, 5, 5],\n",
       "         [4, 5, 5, 9, 5],\n",
       "         [4, 8, 6, 6, 1]],\n",
       "\n",
       "        [[2, 6, 4, 1, 6],\n",
       "         [1, 2, 3, 5, 3],\n",
       "         [1, 4, 3, 1, 8],\n",
       "         [6, 1, 3, 8, 3]],\n",
       "\n",
       "        [[3, 4, 4, 3, 4],\n",
       "         [5, 2, 3, 2, 5],\n",
       "         [7, 9, 3, 4, 1],\n",
       "         [1, 7, 1, 7, 4]]],\n",
       "\n",
       "\n",
       "       [[[4, 9, 9, 9, 3],\n",
       "         [4, 3, 1, 9, 9],\n",
       "         [4, 9, 3, 9, 5],\n",
       "         [4, 1, 5, 4, 7]],\n",
       "\n",
       "        [[9, 1, 9, 6, 1],\n",
       "         [7, 6, 4, 2, 9],\n",
       "         [1, 5, 7, 6, 8],\n",
       "         [9, 9, 3, 9, 7]],\n",
       "\n",
       "        [[7, 2, 7, 9, 9],\n",
       "         [4, 3, 4, 7, 4],\n",
       "         [7, 6, 8, 1, 9],\n",
       "         [5, 7, 6, 9, 3]]]])"
      ]
     },
     "execution_count": 88,
     "metadata": {},
     "output_type": "execute_result"
    }
   ],
   "source": [
    "array3"
   ]
  },
  {
   "cell_type": "code",
   "execution_count": 89,
   "id": "eda7ab27",
   "metadata": {},
   "outputs": [
    {
     "data": {
      "text/plain": [
       "(3, 3, 4, 5)"
      ]
     },
     "execution_count": 89,
     "metadata": {},
     "output_type": "execute_result"
    }
   ],
   "source": [
    "array3.shape"
   ]
  },
  {
   "cell_type": "code",
   "execution_count": 91,
   "id": "a4e4642a",
   "metadata": {},
   "outputs": [
    {
     "data": {
      "text/plain": [
       "array([7, 2, 7, 9, 9])"
      ]
     },
     "execution_count": 91,
     "metadata": {},
     "output_type": "execute_result"
    }
   ],
   "source": [
    "array3[2,2,0]"
   ]
  },
  {
   "cell_type": "markdown",
   "id": "f59b5121",
   "metadata": {},
   "source": [
    "#### manipulating arrays "
   ]
  },
  {
   "cell_type": "code",
   "execution_count": 95,
   "id": "03225e13",
   "metadata": {},
   "outputs": [],
   "source": [
    "'''operations on arrays\n",
    "- addition/sum\n",
    "- suntraction/differfence\n",
    "- product/multiplaction\n",
    "- division /reminder'''\n",
    "#CREATING ARRAYS\n",
    "np.random.seed(0)\n",
    "arr1=np.random.randint(1,high=9,size=(3,3))\n",
    "arr2=np.random.randint(1,high=9,size=(3,3))\n",
    "\n"
   ]
  },
  {
   "cell_type": "code",
   "execution_count": 94,
   "id": "e5205661",
   "metadata": {},
   "outputs": [
    {
     "data": {
      "text/plain": [
       "array([[5, 8, 6],\n",
       "       [1, 4, 4],\n",
       "       [4, 8, 2]])"
      ]
     },
     "execution_count": 94,
     "metadata": {},
     "output_type": "execute_result"
    }
   ],
   "source": [
    "arr1"
   ]
  },
  {
   "cell_type": "code",
   "execution_count": 96,
   "id": "31e58054",
   "metadata": {},
   "outputs": [
    {
     "data": {
      "text/plain": [
       "array([[4, 6, 3],\n",
       "       [5, 8, 7],\n",
       "       [1, 1, 5]])"
      ]
     },
     "execution_count": 96,
     "metadata": {},
     "output_type": "execute_result"
    }
   ],
   "source": [
    "arr2"
   ]
  },
  {
   "cell_type": "code",
   "execution_count": 101,
   "id": "15b1112c",
   "metadata": {},
   "outputs": [
    {
     "data": {
      "text/plain": [
       "array([[ 9, 14,  9],\n",
       "       [ 6, 12, 11],\n",
       "       [ 5,  9,  7]])"
      ]
     },
     "execution_count": 101,
     "metadata": {},
     "output_type": "execute_result"
    }
   ],
   "source": [
    "#addition\n",
    "#arr1+arr2\n",
    "np.add(arr1,arr2)"
   ]
  },
  {
   "cell_type": "code",
   "execution_count": 102,
   "id": "7afd372e",
   "metadata": {},
   "outputs": [
    {
     "data": {
      "text/plain": [
       "array([[ 1,  2,  3],\n",
       "       [-4, -4, -3],\n",
       "       [ 3,  7, -3]])"
      ]
     },
     "execution_count": 102,
     "metadata": {},
     "output_type": "execute_result"
    }
   ],
   "source": [
    "#SUBTRACTION \n",
    "#arr1-arr2\n",
    "np.subtract(arr1,arr2)\n"
   ]
  },
  {
   "cell_type": "code",
   "execution_count": 106,
   "id": "936749c0",
   "metadata": {},
   "outputs": [
    {
     "data": {
      "text/plain": [
       "array([[20, 48, 18],\n",
       "       [ 5, 32, 28],\n",
       "       [ 4,  8, 10]])"
      ]
     },
     "execution_count": 106,
     "metadata": {},
     "output_type": "execute_result"
    }
   ],
   "source": [
    "#PRODUCT\n",
    "#arr1*arr2\n",
    "np.multiply(arr1,arr2)"
   ]
  },
  {
   "cell_type": "code",
   "execution_count": 112,
   "id": "de1330e5",
   "metadata": {},
   "outputs": [
    {
     "data": {
      "text/plain": [
       "(array([[1, 1, 2],\n",
       "        [0, 0, 0],\n",
       "        [4, 8, 0]], dtype=int32),\n",
       " array([[1.25      , 1.33333333, 2.        ],\n",
       "        [0.2       , 0.5       , 0.57142857],\n",
       "        [4.        , 8.        , 0.4       ]]))"
      ]
     },
     "execution_count": 112,
     "metadata": {},
     "output_type": "execute_result"
    }
   ],
   "source": [
    "#arr1//arr2(floor division)\n",
    "#arr1/arr2(division)\n",
    "a=np.floor_divide(arr1,arr2\n",
    "               )\n",
    "b=np.divide(arr1,arr2)\n",
    "a,b"
   ]
  },
  {
   "cell_type": "code",
   "execution_count": 114,
   "id": "ec087503",
   "metadata": {},
   "outputs": [
    {
     "data": {
      "text/plain": [
       "array([[25, 64, 36],\n",
       "       [ 1, 16, 16],\n",
       "       [16, 64,  4]], dtype=int32)"
      ]
     },
     "execution_count": 114,
     "metadata": {},
     "output_type": "execute_result"
    }
   ],
   "source": [
    "#arr1**2(squaring)\n",
    "np.square(arr1)"
   ]
  },
  {
   "cell_type": "code",
   "execution_count": 116,
   "id": "9b848bb6",
   "metadata": {},
   "outputs": [
    {
     "data": {
      "text/plain": [
       "42"
      ]
     },
     "execution_count": 116,
     "metadata": {},
     "output_type": "execute_result"
    }
   ],
   "source": [
    "#sum- returns sum of allo the elements in the array/matrix\n",
    "arr1.sum()\n"
   ]
  },
  {
   "cell_type": "code",
   "execution_count": 118,
   "id": "f42d9800",
   "metadata": {},
   "outputs": [
    {
     "data": {
      "text/plain": [
       "1"
      ]
     },
     "execution_count": 118,
     "metadata": {},
     "output_type": "execute_result"
    }
   ],
   "source": [
    "arr1.min()"
   ]
  },
  {
   "cell_type": "code",
   "execution_count": 119,
   "id": "5085540e",
   "metadata": {},
   "outputs": [
    {
     "data": {
      "text/plain": [
       "8"
      ]
     },
     "execution_count": 119,
     "metadata": {},
     "output_type": "execute_result"
    }
   ],
   "source": [
    "arr1.max()"
   ]
  },
  {
   "cell_type": "code",
   "execution_count": 121,
   "id": "fc7fb6e7",
   "metadata": {},
   "outputs": [
    {
     "data": {
      "text/plain": [
       "4.666666666666667"
      ]
     },
     "execution_count": 121,
     "metadata": {},
     "output_type": "execute_result"
    }
   ],
   "source": [
    "arr1.mean()"
   ]
  },
  {
   "cell_type": "code",
   "execution_count": 173,
   "id": "37ddbbcb",
   "metadata": {},
   "outputs": [],
   "source": [
    "#dot product\n",
    "#WHEN PERFORMING DOT THE NUMBER OF ROWS OF M1 SHOULD BE EQUAL TO \n",
    "np.random.seed(0)\n",
    "aa1=np.random.randint(1,high=9,size=(5,3))\n",
    "aa2=np.random.randint(1,high=9,size=(1,3))"
   ]
  },
  {
   "cell_type": "code",
   "execution_count": 176,
   "id": "2626f2c9",
   "metadata": {},
   "outputs": [
    {
     "data": {
      "text/plain": [
       "array([[43],\n",
       "       [25],\n",
       "       [22],\n",
       "       [25],\n",
       "       [48]])"
      ]
     },
     "execution_count": 176,
     "metadata": {},
     "output_type": "execute_result"
    }
   ],
   "source": [
    "#np.dot(aa1,aa2.reshape(3,1)) or  \n",
    "np.dot(aa1,aa2.T) #T for transpose "
   ]
  },
  {
   "cell_type": "markdown",
   "id": "d87e3fda",
   "metadata": {},
   "source": [
    "#### comparison operations\n"
   ]
  },
  {
   "cell_type": "code",
   "execution_count": 191,
   "id": "04c5e059",
   "metadata": {},
   "outputs": [],
   "source": [
    "np.random.seed(0)\n",
    "a1=np.random.randint(1,high=9,size=(5,3))\n",
    "a2=np.random.randint(1,high=9,size=(5,3))"
   ]
  },
  {
   "cell_type": "code",
   "execution_count": 192,
   "id": "b2f1d561",
   "metadata": {},
   "outputs": [
    {
     "data": {
      "text/plain": [
       "array([[ True,  True,  True],\n",
       "       [False,  True, False],\n",
       "       [False, False, False],\n",
       "       [ True,  True, False],\n",
       "       [ True,  True,  True]])"
      ]
     },
     "execution_count": 192,
     "metadata": {},
     "output_type": "execute_result"
    }
   ],
   "source": [
    "a1>a2"
   ]
  },
  {
   "cell_type": "code",
   "execution_count": 193,
   "id": "f66ec8eb",
   "metadata": {},
   "outputs": [
    {
     "data": {
      "text/plain": [
       "array([[False, False, False],\n",
       "       [ True, False,  True],\n",
       "       [ True, False,  True],\n",
       "       [False, False,  True],\n",
       "       [False, False, False]])"
      ]
     },
     "execution_count": 193,
     "metadata": {},
     "output_type": "execute_result"
    }
   ],
   "source": [
    "a1<a2"
   ]
  },
  {
   "cell_type": "code",
   "execution_count": 194,
   "id": "9b216141",
   "metadata": {},
   "outputs": [
    {
     "data": {
      "text/plain": [
       "array([[False, False, False],\n",
       "       [False, False, False],\n",
       "       [False,  True, False],\n",
       "       [False, False, False],\n",
       "       [False, False, False]])"
      ]
     },
     "execution_count": 194,
     "metadata": {},
     "output_type": "execute_result"
    }
   ],
   "source": [
    "a1==a2"
   ]
  },
  {
   "cell_type": "code",
   "execution_count": 195,
   "id": "22577c29",
   "metadata": {},
   "outputs": [
    {
     "data": {
      "text/plain": [
       "array([[ True,  True,  True],\n",
       "       [ True,  True,  True],\n",
       "       [ True, False,  True],\n",
       "       [ True,  True,  True],\n",
       "       [ True,  True,  True]])"
      ]
     },
     "execution_count": 195,
     "metadata": {},
     "output_type": "execute_result"
    }
   ],
   "source": [
    "a1!=a2"
   ]
  },
  {
   "cell_type": "code",
   "execution_count": 196,
   "id": "c9ba8b82",
   "metadata": {},
   "outputs": [
    {
     "data": {
      "text/plain": [
       "array([[False,  True,  True],\n",
       "       [False, False, False],\n",
       "       [False,  True, False],\n",
       "       [False,  True, False],\n",
       "       [False,  True,  True]])"
      ]
     },
     "execution_count": 196,
     "metadata": {},
     "output_type": "execute_result"
    }
   ],
   "source": [
    "a1>5"
   ]
  },
  {
   "cell_type": "markdown",
   "id": "f0b03b17",
   "metadata": {},
   "source": [
    "#### sorting arrays\n",
    "\n"
   ]
  },
  {
   "cell_type": "code",
   "execution_count": 197,
   "id": "0328af2b",
   "metadata": {},
   "outputs": [
    {
     "data": {
      "text/plain": [
       "array([[5, 6, 8],\n",
       "       [1, 4, 4],\n",
       "       [2, 4, 8],\n",
       "       [3, 4, 6],\n",
       "       [5, 7, 8]])"
      ]
     },
     "execution_count": 197,
     "metadata": {},
     "output_type": "execute_result"
    }
   ],
   "source": [
    "#sort\n",
    "#RETURNS THE SORTED ROWS IN THE MATRIX\n",
    "\n",
    "np.sort(a1)"
   ]
  },
  {
   "cell_type": "code",
   "execution_count": 200,
   "id": "fcf4cd21",
   "metadata": {},
   "outputs": [
    {
     "data": {
      "text/plain": [
       "array([[0, 2, 1],\n",
       "       [0, 1, 2],\n",
       "       [2, 0, 1],\n",
       "       [2, 0, 1],\n",
       "       [0, 2, 1]], dtype=int64)"
      ]
     },
     "execution_count": 200,
     "metadata": {},
     "output_type": "execute_result"
    }
   ],
   "source": [
    "#argsort\n",
    "#RETURNS THE INDEX OF THE SORTED ROW IN THE MATRIX\n",
    "np.argsort(a1)"
   ]
  },
  {
   "cell_type": "code",
   "execution_count": null,
   "id": "9a6747bf",
   "metadata": {},
   "outputs": [],
   "source": []
  }
 ],
 "metadata": {
  "kernelspec": {
   "display_name": "Python 3",
   "language": "python",
   "name": "python3"
  },
  "language_info": {
   "codemirror_mode": {
    "name": "ipython",
    "version": 3
   },
   "file_extension": ".py",
   "mimetype": "text/x-python",
   "name": "python",
   "nbconvert_exporter": "python",
   "pygments_lexer": "ipython3",
   "version": "3.8.8"
  }
 },
 "nbformat": 4,
 "nbformat_minor": 5
}
