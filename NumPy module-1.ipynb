{
 "cells": [
  {
   "cell_type": "markdown",
   "id": "485f01f4",
   "metadata": {},
   "source": [
    "# Numpy\n",
    "\n",
    "NUMPY is the fundamental package for scientific computing in Python. NumPy arrays facilitate advanced mathematical and other types of operations on large numbers of data. Typically, such operations are executed more efficiently and with less code than is possible using Python's built-in sequences.\n",
    "\n",
    " "
   ]
  },
  {
   "cell_type": "markdown",
   "id": "040c652e",
   "metadata": {},
   "source": [
    "\n",
    "## why numpy?\n",
    "* many functionalities in numpy are coded/optimised in c which are very fast when compared to python functions\n",
    "* NUMPY is backbone to many sentific calucations \n",
    "\n"
   ]
  },
  {
   "cell_type": "markdown",
   "id": "26cbdc07",
   "metadata": {},
   "source": [
    "#### Getting started with python numy \n",
    "    In numpy we mostly work with arrays.By default arrays are stored as ndarray(N-Dimensional array)\n",
    "    and numpy supports all the datatypes of python\n",
    "    "
   ]
  },
  {
   "cell_type": "code",
   "execution_count": 1,
   "id": "3dcf507d",
   "metadata": {},
   "outputs": [],
   "source": [
    "#import numpy\n",
    "import numpy as np"
   ]
  },
  {
   "cell_type": "code",
   "execution_count": 2,
   "id": "71af4d03",
   "metadata": {},
   "outputs": [],
   "source": [
    "#creating array (type-1)\n",
    "array1=np.array([1,2,3,4,5]) #1-d array\n",
    "\n"
   ]
  },
  {
   "cell_type": "code",
   "execution_count": 3,
   "id": "7390cd5d",
   "metadata": {},
   "outputs": [
    {
     "data": {
      "text/plain": [
       "array([1, 2, 3, 4, 5])"
      ]
     },
     "execution_count": 3,
     "metadata": {},
     "output_type": "execute_result"
    }
   ],
   "source": [
    "#print array\n",
    "array1"
   ]
  },
  {
   "cell_type": "code",
   "execution_count": 6,
   "id": "b9fab563",
   "metadata": {},
   "outputs": [],
   "source": [
    "#2-d array\n",
    "array2=np.array([[1,2,3,4,5],\n",
    "                [12,43,1324,123,4314]])"
   ]
  },
  {
   "cell_type": "code",
   "execution_count": 19,
   "id": "de6f248c",
   "metadata": {},
   "outputs": [
    {
     "data": {
      "text/plain": [
       "array([[   1,    2,    3,    4,    5],\n",
       "       [  12,   43, 1324,  123, 4314]])"
      ]
     },
     "execution_count": 19,
     "metadata": {},
     "output_type": "execute_result"
    }
   ],
   "source": [
    "array2"
   ]
  },
  {
   "cell_type": "code",
   "execution_count": 20,
   "id": "914415ae",
   "metadata": {},
   "outputs": [
    {
     "data": {
      "text/plain": [
       "array([[   1,    2,    3,    4,    5],\n",
       "       [   1,    3,    4,    6,    5],\n",
       "       [  12,   43, 1324,  123, 4314]])"
      ]
     },
     "execution_count": 20,
     "metadata": {},
     "output_type": "execute_result"
    }
   ],
   "source": [
    "#3-d array\n",
    "array3=np.array([[1,2,3,4,5],\n",
    "                [1,3,4,6,5],\n",
    "                [12,43,1324,123,4314]])\n",
    "#print array\n",
    "array3"
   ]
  },
  {
   "cell_type": "code",
   "execution_count": 21,
   "id": "ec1dfbb9",
   "metadata": {},
   "outputs": [
    {
     "data": {
      "text/plain": [
       "numpy.ndarray"
      ]
     },
     "execution_count": 21,
     "metadata": {},
     "output_type": "execute_result"
    }
   ],
   "source": [
    "#finding type of array\n",
    "type(array2)"
   ]
  },
  {
   "cell_type": "markdown",
   "id": "e3d1f297",
   "metadata": {},
   "source": [
    "##### attributes in NumPy"
   ]
  },
  {
   "cell_type": "code",
   "execution_count": 22,
   "id": "4c131f76",
   "metadata": {},
   "outputs": [
    {
     "data": {
      "text/plain": [
       "(2, 5)"
      ]
     },
     "execution_count": 22,
     "metadata": {},
     "output_type": "execute_result"
    }
   ],
   "source": [
    "#shape\n",
    "#shape returns the number of rows and columns in the array\n",
    "array2.shape\n"
   ]
  },
  {
   "cell_type": "code",
   "execution_count": 23,
   "id": "39079654",
   "metadata": {},
   "outputs": [
    {
     "data": {
      "text/plain": [
       "(2, 5)"
      ]
     },
     "execution_count": 23,
     "metadata": {},
     "output_type": "execute_result"
    }
   ],
   "source": [
    "array2.shape"
   ]
  },
  {
   "cell_type": "code",
   "execution_count": 24,
   "id": "1b96432c",
   "metadata": {},
   "outputs": [
    {
     "data": {
      "text/plain": [
       "(10, 5, 15)"
      ]
     },
     "execution_count": 24,
     "metadata": {},
     "output_type": "execute_result"
    }
   ],
   "source": [
    "#size\n",
    "#size returns the number of elements in the array\n",
    "array2.size,array1.size,array3.size"
   ]
  },
  {
   "cell_type": "code",
   "execution_count": 25,
   "id": "736b845c",
   "metadata": {},
   "outputs": [
    {
     "data": {
      "text/plain": [
       "(2, 2, 1)"
      ]
     },
     "execution_count": 25,
     "metadata": {},
     "output_type": "execute_result"
    }
   ],
   "source": [
    "#ndim\n",
    "#ndim returns the dimensions of the array\n",
    "array2.ndim,array3.ndim,array1.ndim"
   ]
  },
  {
   "cell_type": "code",
   "execution_count": 26,
   "id": "9d76cd03",
   "metadata": {},
   "outputs": [],
   "source": [
    "#creating arrays type-2\n",
    "#ones\n",
    "#ones will create array with only ones \n",
    "#syntax\n",
    "#arrayname=numpy.ones(rows,columns)\n",
    "ones=np.ones((5,3))"
   ]
  },
  {
   "cell_type": "code",
   "execution_count": 27,
   "id": "8d2863aa",
   "metadata": {},
   "outputs": [
    {
     "data": {
      "text/plain": [
       "array([[1., 1., 1.],\n",
       "       [1., 1., 1.],\n",
       "       [1., 1., 1.],\n",
       "       [1., 1., 1.],\n",
       "       [1., 1., 1.]])"
      ]
     },
     "execution_count": 27,
     "metadata": {},
     "output_type": "execute_result"
    }
   ],
   "source": [
    "ones"
   ]
  },
  {
   "cell_type": "code",
   "execution_count": 28,
   "id": "24ce2ed6",
   "metadata": {},
   "outputs": [],
   "source": [
    "#zeros\n",
    "#zeros will create array with only zeros \n",
    "#syntax\n",
    "#arrayname=numpy.zeros(rows,columns)\n",
    "zeros=np.zeros((5,3))"
   ]
  },
  {
   "cell_type": "code",
   "execution_count": 29,
   "id": "b12baab4",
   "metadata": {},
   "outputs": [
    {
     "data": {
      "text/plain": [
       "array([[0., 0., 0.],\n",
       "       [0., 0., 0.],\n",
       "       [0., 0., 0.],\n",
       "       [0., 0., 0.],\n",
       "       [0., 0., 0.]])"
      ]
     },
     "execution_count": 29,
     "metadata": {},
     "output_type": "execute_result"
    }
   ],
   "source": [
    "zeros"
   ]
  },
  {
   "cell_type": "code",
   "execution_count": 32,
   "id": "f360b4ad",
   "metadata": {},
   "outputs": [
    {
     "data": {
      "text/plain": [
       "array([0, 2, 4, 6, 8])"
      ]
     },
     "execution_count": 32,
     "metadata": {},
     "output_type": "execute_result"
    }
   ],
   "source": [
    "#arange\n",
    "#arange will create array within the range\n",
    "#syntax\n",
    "#arrayname=numpy.arange(start,stop,step)\n",
    "array=np.arange(0,10,2)\n",
    "\n",
    "array"
   ]
  },
  {
   "cell_type": "code",
   "execution_count": 36,
   "id": "da0f5c5c",
   "metadata": {},
   "outputs": [],
   "source": [
    "#random array\n",
    "#random will create array with random numbers \n",
    "#syntax\n",
    "#arrayname=numpy.random.randint(min,max,size=(row,columns))\n",
    "randarray=np.random.randint(0,high=10,size=(5,3))"
   ]
  },
  {
   "cell_type": "code",
   "execution_count": 37,
   "id": "6dab94fa",
   "metadata": {},
   "outputs": [
    {
     "data": {
      "text/plain": [
       "array([[9, 8, 7],\n",
       "       [6, 5, 3],\n",
       "       [2, 5, 6],\n",
       "       [5, 4, 9],\n",
       "       [1, 9, 1]])"
      ]
     },
     "execution_count": 37,
     "metadata": {},
     "output_type": "execute_result"
    }
   ],
   "source": [
    "randarray"
   ]
  }
 ],
 "metadata": {
  "kernelspec": {
   "display_name": "Python 3",
   "language": "python",
   "name": "python3"
  },
  "language_info": {
   "codemirror_mode": {
    "name": "ipython",
    "version": 3
   },
   "file_extension": ".py",
   "mimetype": "text/x-python",
   "name": "python",
   "nbconvert_exporter": "python",
   "pygments_lexer": "ipython3",
   "version": "3.8.8"
  }
 },
 "nbformat": 4,
 "nbformat_minor": 5
}
